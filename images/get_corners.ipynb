{
 "cells": [
  {
   "cell_type": "code",
   "execution_count": 1,
   "metadata": {},
   "outputs": [],
   "source": [
    "import time\n",
    "import matplotlib\n",
    "import io\n",
    "matplotlib.use(\"Agg\")\n",
    "import matplotlib.pyplot as plt\n",
    "start_time = time.time()\n",
    "\n",
    "\n",
    "import numpy as np\n",
    "from skimage.io import imread\n",
    "from skimage.filters import gaussian, threshold_local\n",
    "from skimage.measure import find_contours, moments\n",
    "from skimage.draw import line\n",
    "from skimage.color import gray2rgb\n",
    "import math\n",
    "\n",
    "from PIL import Image\n"
   ]
  },
  {
   "cell_type": "code",
   "execution_count": 2,
   "metadata": {},
   "outputs": [],
   "source": [
    "image = imread('./DLMIA.png', as_gray=True)"
   ]
  },
  {
   "cell_type": "markdown",
   "metadata": {},
   "source": [
    "Once the image is loaded lets delete some of the noise and threshold the image"
   ]
  },
  {
   "cell_type": "code",
   "execution_count": 3,
   "metadata": {},
   "outputs": [],
   "source": [
    "image_gauss = gaussian(image, 70, multichannel=False) # Makes the image smoother\n",
    "block_size = 9\n",
    "local_thresh = threshold_local(image, block_size)\n",
    "binary_local = image_gauss > local_thresh"
   ]
  },
  {
   "cell_type": "markdown",
   "metadata": {},
   "source": [
    "Let's find the contours, and define a funtion to find the areas of those contours."
   ]
  },
  {
   "cell_type": "code",
   "execution_count": 4,
   "metadata": {},
   "outputs": [],
   "source": [
    "contours = find_contours(binary_local, 0.9)\n",
    "\n",
    "# Taken from https://groups.google.com/forum/#!topic/scikit-image/--pXW-fPbGg\n",
    "def polygonArea(poly):\n",
    "    \"\"\"\n",
    "    Return area of an unclosed polygon.\n",
    "    \n",
    "    :see: https://stackoverflow.com/a/451482\n",
    "    :param poly: (n,2)-array\n",
    "    \"\"\"\n",
    "    # we need a plain list for the following operations\n",
    "    if isinstance(poly, np.ndarray):\n",
    "        poly = poly.tolist()\n",
    "    segments = zip(poly, poly[1:] + [poly[0]])\n",
    "    return 0.5 * abs(sum(x0*y1 - x1*y0\n",
    "                         for ((x0, y0), (x1, y1)) in segments))\n",
    "areas = map(polygonArea, contours)\n"
   ]
  },
  {
   "cell_type": "markdown",
   "metadata": {},
   "source": [
    "Get the larges area, and create a black background"
   ]
  },
  {
   "cell_type": "code",
   "execution_count": 5,
   "metadata": {},
   "outputs": [],
   "source": [
    "np_areas = np.array(list(areas))\n",
    "result = np.where(np_areas == np.amax(np_areas))\n",
    "max_index = result[0].item()\n",
    "black = binary_local > 256"
   ]
  },
  {
   "cell_type": "markdown",
   "metadata": {},
   "source": [
    "Plots the coordinates in top of the black image"
   ]
  },
  {
   "cell_type": "code",
   "execution_count": 6,
   "metadata": {},
   "outputs": [
    {
     "name": "stderr",
     "output_type": "stream",
     "text": [
      "/home/richard/.pyenv/versions/3.7.3/lib/python3.7/site-packages/matplotlib/figure.py:445: UserWarning: Matplotlib is currently using agg, which is a non-GUI backend, so cannot show the figure.\n",
      "  % get_backend())\n"
     ]
    }
   ],
   "source": [
    "fig, ax = plt.subplots()\n",
    "\n",
    "ax.imshow(black, cmap=plt.cm.gray)\n",
    "contour = contours[max_index]\n",
    "\n",
    "ax.plot(contour[:, 1], contour[:, 0])\n",
    "plt.axis('off')\n",
    "ax.set_yticklabels([])\n",
    "ax.set_xticklabels([])\n",
    "plt.show()"
   ]
  },
  {
   "cell_type": "markdown",
   "metadata": {},
   "source": [
    "Saves the plot into a buffer"
   ]
  },
  {
   "cell_type": "code",
   "execution_count": 7,
   "metadata": {},
   "outputs": [],
   "source": [
    "\n",
    "buf = io.BytesIO()\n",
    "fig.savefig(buf,\n",
    "    format='jpeg',\n",
    "    bbox_inches='tight',\n",
    "    pad_inches=0)\n",
    "buf.seek(0)\n",
    "im = Image.open(buf)\n",
    "\n",
    "img_only_borders = np.array(im)\n",
    "buf.close()"
   ]
  },
  {
   "cell_type": "code",
   "execution_count": 8,
   "metadata": {},
   "outputs": [],
   "source": [
    "# plt.imshow(img)\n",
    "\n",
    "from skimage.feature import corner_harris, corner_peaks\n",
    "\n",
    "def rgb2gray(rgb):\n",
    "    return np.dot(rgb[...,:3], [0.2989, 0.5870, 0.1140])\n",
    "img_only_borders_grayscale = rgb2gray(img_only_borders)\n",
    "\n",
    "coords = corner_peaks(corner_harris(img_only_borders_grayscale), min_distance=2)\n",
    "# fig, ax = plt.subplots()\n",
    "# ax.imshow(img, cmap=plt.cm.gray)\n",
    "# ax.plot(coords[:, 1], coords[:, 0], '+r', markersize=15)\n",
    "# plt.show()"
   ]
  },
  {
   "cell_type": "code",
   "execution_count": 9,
   "metadata": {},
   "outputs": [],
   "source": [
    "def get_center_point(img):\n",
    "    img_momentum = moments(img)\n",
    "    center_x = img_momentum[1, 0] / img_momentum[0, 0]\n",
    "    center_y = img_momentum[0, 1] / img_momentum[0, 0]\n",
    "    \n",
    "    return (center_x, center_y)\n",
    "\n",
    "def find_corner(img, coords):\n",
    "    center_x , center_y = get_center_point(img)\n",
    "    \n",
    "    corners = {'up_left': (0,0), 'down_left': (0,0), 'up_right':(0,0), 'down_right': (0,0)}\n",
    "    distance = {'up_left': 0, 'down_left': 0, 'up_right':0, 'down_right': 0}\n",
    "    \n",
    "    for coord in coords:\n",
    "        [y, x] = coord\n",
    "        dist = math.sqrt((x - center_x)**2 + (y - center_y)**2)\n",
    "        \n",
    "        if x < center_x and y < center_y and distance['up_left'] < dist:\n",
    "            corners['up_left'] = (x, y)\n",
    "            distance['up_left'] = dist\n",
    "            \n",
    "        elif x > center_x and y < center_y and distance['up_right'] < dist:\n",
    "            corners['up_right'] = (x, y)\n",
    "            distance['up_right'] = dist\n",
    "            \n",
    "        elif x > center_x and y > center_y and distance['down_right'] < dist:\n",
    "            corners['down_right'] = (x, y)\n",
    "            distance['down_right'] = dist\n",
    "            \n",
    "        elif x < center_x and y > center_y and distance['down_left'] < dist:\n",
    "            corners['down_left'] = (x, y)\n",
    "            distance['down_left'] = dist\n",
    "    \n",
    "    return corners\n",
    "            \n",
    "    \n",
    "\n",
    "corners = find_corner(img_only_borders_grayscale, coords)\n",
    "fig, ax = plt.subplots()\n",
    "\n",
    "ax.imshow(img_only_borders_grayscale, cmap=plt.cm.gray)\n",
    "ax.plot([corners['up_right'][0]], [corners['up_right'][1]], '+r', markersize=15)\n",
    "ax.plot([corners['up_left'][0]], [corners['up_left'][1]], '+r', markersize=15)\n",
    "ax.plot([corners['down_right'][0]], [corners['down_right'][1]], '+r', markersize=15)\n",
    "ax.plot([corners['down_left'][0]], [corners['down_left'][1]], '+r', markersize=15)\n",
    "\n",
    "plt.show()"
   ]
  },
  {
   "cell_type": "code",
   "execution_count": 10,
   "metadata": {},
   "outputs": [
    {
     "name": "stdout",
     "output_type": "stream",
     "text": [
      "{'up_left': (48, 55), 'down_left': (23, 337), 'up_right': (322, 45), 'down_right': (341, 341)}\n",
      "--- 8.17365837097168 seconds ---\n"
     ]
    }
   ],
   "source": [
    "fig.savefig(\"local.png\")\n",
    "print(corners)\n",
    "print(\"--- %s seconds ---\" % (time.time() - start_time))\n"
   ]
  },
  {
   "cell_type": "code",
   "execution_count": 11,
   "metadata": {},
   "outputs": [
    {
     "data": {
      "text/plain": [
       "(369, 366, 3)"
      ]
     },
     "execution_count": 11,
     "metadata": {},
     "output_type": "execute_result"
    }
   ],
   "source": [
    "img_only_borders.shape"
   ]
  },
  {
   "cell_type": "code",
   "execution_count": null,
   "metadata": {},
   "outputs": [],
   "source": []
  }
 ],
 "metadata": {
  "kernelspec": {
   "display_name": "Python 3",
   "language": "python",
   "name": "python3"
  },
  "language_info": {
   "codemirror_mode": {
    "name": "ipython",
    "version": 3
   },
   "file_extension": ".py",
   "mimetype": "text/x-python",
   "name": "python",
   "nbconvert_exporter": "python",
   "pygments_lexer": "ipython3",
   "version": "3.7.3"
  }
 },
 "nbformat": 4,
 "nbformat_minor": 2
}
