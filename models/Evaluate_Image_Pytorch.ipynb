{
 "cells": [
  {
   "cell_type": "code",
   "execution_count": 1,
   "metadata": {
    "colab": {},
    "colab_type": "code",
    "id": "Ah_Ns95djP0r"
   },
   "outputs": [],
   "source": [
    "import torch\n",
    "import torch.nn as nn\n",
    "import torchvision\n",
    "\n",
    "import numpy as np\n",
    "from torchvision import datasets, models, transforms\n",
    "import matplotlib.pyplot as plt\n",
    "\n",
    "\n",
    "import torch.nn.functional as F"
   ]
  },
  {
   "cell_type": "markdown",
   "metadata": {
    "colab_type": "text",
    "id": "T4s8Xk86i8Cd"
   },
   "source": [
    "Define the neural network to be loaded, this is the same network used for training. (Duh\n",
    ")"
   ]
  },
  {
   "cell_type": "code",
   "execution_count": 2,
   "metadata": {
    "colab": {},
    "colab_type": "code",
    "id": "bRfl1aZ3ikzR"
   },
   "outputs": [],
   "source": [
    "class Net(nn.Module):\n",
    "    def __init__(self):\n",
    "        super(Net, self).__init__()\n",
    "        self.conv1 = nn.Conv2d(1, 10, kernel_size=5)\n",
    "        self.conv2 = nn.Conv2d(10, 20, kernel_size=5)\n",
    "        self.conv2_drop = nn.Dropout2d()\n",
    "        self.fc1 = nn.Linear(320, 50)\n",
    "        self.fc2 = nn.Linear(50, 10)\n",
    "\n",
    "    def forward(self, x):\n",
    "        x = F.relu(F.max_pool2d(self.conv1(x), 2))\n",
    "        x = F.relu(F.max_pool2d(self.conv2_drop(self.conv2(x)), 2))\n",
    "        x = x.view(-1, 320)\n",
    "        x = F.relu(self.fc1(x))\n",
    "        x = F.dropout(x, training=self.training)\n",
    "        x = self.fc2(x)\n",
    "        return F.log_softmax(x)"
   ]
  },
  {
   "cell_type": "markdown",
   "metadata": {
    "colab_type": "text",
    "id": "BBN2X7pIjklt"
   },
   "source": [
    "Load the model state from disk"
   ]
  },
  {
   "cell_type": "code",
   "execution_count": 3,
   "metadata": {
    "colab": {},
    "colab_type": "code",
    "id": "L_xmg9vtssEa"
   },
   "outputs": [],
   "source": [
    "if torch.cuda.is_available():\n",
    "    device = torch.device('cuda')\n",
    "else:\n",
    "    device = torch.device('cpu')"
   ]
  },
  {
   "cell_type": "code",
   "execution_count": 4,
   "metadata": {
    "colab": {
     "base_uri": "https://localhost:8080/",
     "height": 139
    },
    "colab_type": "code",
    "id": "6j4319W7js9O",
    "outputId": "2de9045d-3266-45e2-bf30-83cc7ff770a8"
   },
   "outputs": [
    {
     "data": {
      "text/plain": [
       "Net(\n",
       "  (conv1): Conv2d(1, 10, kernel_size=(5, 5), stride=(1, 1))\n",
       "  (conv2): Conv2d(10, 20, kernel_size=(5, 5), stride=(1, 1))\n",
       "  (conv2_drop): Dropout2d(p=0.5, inplace=False)\n",
       "  (fc1): Linear(in_features=320, out_features=50, bias=True)\n",
       "  (fc2): Linear(in_features=50, out_features=10, bias=True)\n",
       ")"
      ]
     },
     "execution_count": 4,
     "metadata": {},
     "output_type": "execute_result"
    }
   ],
   "source": [
    "network = Net()\n",
    "model_state = torch.load('./model.pth')\n",
    "network.load_state_dict(model_state)\n",
    "network.double()\n",
    "network.to(device=device)"
   ]
  },
  {
   "cell_type": "markdown",
   "metadata": {
    "colab_type": "text",
    "id": "nV91IR6Tj9px"
   },
   "source": [
    "Now lets define a function that will recive an image an return the integer predicted by the network\n"
   ]
  },
  {
   "cell_type": "code",
   "execution_count": 5,
   "metadata": {
    "colab": {},
    "colab_type": "code",
    "id": "K3vXAQTUj8ct"
   },
   "outputs": [],
   "source": [
    "from skimage.transform import resize\n",
    "from skimage.util import invert\n",
    "\n",
    "normalize = transforms.Normalize((0.1307,), (0.3081,))\n",
    "# Transformer\n",
    "transformer_eval = torchvision.transforms.Compose([\n",
    "    torchvision.transforms.ToTensor(),\n",
    "    torchvision.transforms.ColorJitter(),\n",
    "    normalize\n",
    "])\n",
    "\n",
    "def predict(image_input, should_invert=False):\n",
    "    assert len(image_input.shape) ==  2, \"The image should be in grayscale\"\n",
    "    size = (28, 28)\n",
    "    \n",
    "    image = resize(image_input, (28, 28), anti_aliasing=True)\n",
    "    if should_invert:\n",
    "        image = invert(image)\n",
    "\n",
    "    tranfomed_image = transformer_eval(image)\n",
    "    batch_image = tranfomed_image.unsqueeze(0).to(device=device)\n",
    "\n",
    "    assert len(batch_image.shape) == 4, f\"Wrong batch dimentions, expected 4, got {len(batch_image.shape)}\" \n",
    "\n",
    "    output = network(batch_image)\n",
    "\n",
    "    pred = output.data.max(1)[1][0].item()\n",
    "\n",
    "    return pred\n"
   ]
  },
  {
   "cell_type": "markdown",
   "metadata": {
    "colab_type": "text",
    "id": "uBvuhCrvk2X7"
   },
   "source": [
    "Lets load an image for testing"
   ]
  },
  {
   "cell_type": "code",
   "execution_count": 6,
   "metadata": {
    "colab": {
     "base_uri": "https://localhost:8080/",
     "height": 338
    },
    "colab_type": "code",
    "id": "H66D-arkkece",
    "outputId": "a9c418cf-fcbd-4744-972e-098d47614de7"
   },
   "outputs": [
    {
     "name": "stdout",
     "output_type": "stream",
     "text": [
      "  % Total    % Received % Xferd  Average Speed   Time    Time     Time  Current\n",
      "                                 Dload  Upload   Total   Spent    Left  Speed\n",
      "100 18837  100 18837    0     0   112k      0 --:--:-- --:--:-- --:--:--  112k\n"
     ]
    },
    {
     "data": {
      "text/plain": [
       "<matplotlib.image.AxesImage at 0x7f140cd5f550>"
      ]
     },
     "execution_count": 6,
     "metadata": {},
     "output_type": "execute_result"
    },
    {
     "data": {
      "image/png": "[encoded data removed]",
      "text/plain": [
       "<Figure size 432x288 with 1 Axes>"
      ]
     },
     "metadata": {
      "needs_background": "light"
     },
     "output_type": "display_data"
    }
   ],
   "source": [
    "!curl https://images.homedepot-static.com/productImages/c0e71156-4516-439b-b99a-28b0f02050a1/svn/architectural-mailboxes-house-letters-numbers-3582b-4-64_1000.jpg -o number.jpg\n",
    "\n",
    "import skimage.color\n",
    "import skimage.io\n",
    "\n",
    "image_gray = skimage.color.rgb2gray(skimage.io.imread('../4.png'))\n",
    "\n",
    "plt.imshow(image_gray, cmap='gray')\n"
   ]
  },
  {
   "cell_type": "code",
   "execution_count": 7,
   "metadata": {},
   "outputs": [
    {
     "data": {
      "text/plain": [
       "tensor([[[-0.1541, -0.1541, -0.1541, -0.1541, -0.1541, -0.1541, -0.1541,\n",
       "          -0.1541, -0.1541, -0.1541, -0.1541, -0.1541, -0.1541, -0.1541,\n",
       "          -0.1541, -0.1541, -0.1541, -0.1541, -0.1541, -0.1541, -0.1541,\n",
       "          -0.1541, -0.1541, -0.1541, -0.1541, -0.1541, -0.1541, -0.1541],\n",
       "         [-0.1541, -0.1541, -0.1541, -0.1541, -0.1541, -0.1541, -0.1541,\n",
       "          -0.1541, -0.1541, -0.1541, -0.1541, -0.1541, -0.1541, -0.1541,\n",
       "          -0.1541, -0.1541, -0.1541, -0.1541, -0.1541, -0.1541, -0.1541,\n",
       "          -0.1541, -0.1541, -0.1541, -0.1541, -0.1541, -0.1541, -0.1541],\n",
       "         [-0.1541, -0.1541, -0.1541, -0.1541, -0.1541, -0.1541, -0.1541,\n",
       "          -0.1541, -0.1541, -0.1541, -0.1541, -0.1541, -0.1541, -0.1541,\n",
       "          -0.1541, -0.1541, -0.1541, -0.1541, -0.1541, -0.1541, -0.1541,\n",
       "          -0.1541, -0.1541, -0.1541, -0.1541, -0.1541, -0.1541, -0.1541],\n",
       "         [-0.1541, -0.1541, -0.1541, -0.1541, -0.1541, -0.1541, -0.1541,\n",
       "          -0.1541, -0.1541, -0.1541, -0.1541, -0.1541, -0.1541, -0.1541,\n",
       "          -0.1541, -0.1541, -0.1541, -0.1541, -0.1541, -0.1541, -0.1541,\n",
       "          -0.1541, -0.1541, -0.1541, -0.1541, -0.1541, -0.1541, -0.1541],\n",
       "         [-0.1541, -0.1541, -0.1541, -0.1541, -0.1541, -0.1541, -0.1541,\n",
       "          -0.1541, -0.1541, -0.1541, -0.1541, -0.1541, -0.1541, -0.1541,\n",
       "          -0.1541, -0.1541, -0.1541, -0.1541, -0.1541, -0.1541, -0.1541,\n",
       "          -0.1541, -0.1541, -0.1541, -0.1541, -0.1541, -0.1541, -0.1541],\n",
       "         [-0.1541, -0.1541, -0.1541, -0.1541, -0.1541, -0.1541, -0.1541,\n",
       "          -0.1541, -0.1541, -0.1541, -0.1541, -0.1541, -0.1541, -0.1541,\n",
       "          -0.1541, -0.1541, -0.1541, -0.1541, -0.1541, -0.1541, -0.1541,\n",
       "          -0.1541, -0.1541, -0.1541, -0.1541, -0.1541, -0.1541, -0.1541],\n",
       "         [-0.1541, -0.1541, -0.1541, -0.1541, -0.1541, -0.1541, -0.1541,\n",
       "          -0.1541, -0.1541, -0.1541, -0.1541, -0.1541, -0.1541, -0.1541,\n",
       "          -0.1541, -0.1541, -0.1541, -0.1541, -0.1541, -0.1541, -0.1541,\n",
       "          -0.1541, -0.1541, -0.1541, -0.1541, -0.1541, -0.1541, -0.1541],\n",
       "         [-0.1541, -0.1541, -0.1541, -0.1541, -0.1541, -0.1541, -0.1541,\n",
       "          -0.1541, -0.1541, -0.1541, -0.1541, -0.1541, -0.1540, -0.1533,\n",
       "          -0.1530, -0.1530, -0.1530, -0.1531, -0.1539, -0.1541, -0.1541,\n",
       "          -0.1541, -0.1541, -0.1541, -0.1541, -0.1541, -0.1541, -0.1541],\n",
       "         [-0.1541, -0.1541, -0.1541, -0.1541, -0.1541, -0.1541, -0.1541,\n",
       "          -0.1541, -0.1541, -0.1541, -0.1540, -0.1522, -0.1297,  0.0850,\n",
       "           0.1672,  0.1680,  0.1679,  0.1411, -0.0822, -0.1531, -0.1541,\n",
       "          -0.1541, -0.1541, -0.1541, -0.1541, -0.1541, -0.1541, -0.1541],\n",
       "         [-0.1541, -0.1541, -0.1541, -0.1541, -0.1541, -0.1541, -0.1541,\n",
       "          -0.1541, -0.1541, -0.1540, -0.1410,  0.1142,  0.4890,  1.5828,\n",
       "           1.9976,  2.0016,  2.0014,  1.8654,  0.6595, -0.0702, -0.1526,\n",
       "          -0.1541, -0.1541, -0.1541, -0.1541, -0.1541, -0.1541, -0.1541],\n",
       "         [-0.1541, -0.1541, -0.1541, -0.1541, -0.1541, -0.1541, -0.1541,\n",
       "          -0.1541, -0.1541, -0.1412,  0.2252,  1.4384,  2.1702,  2.3330,\n",
       "           2.3533,  2.3462,  2.3481,  2.3595,  2.0188,  0.7761, -0.0596,\n",
       "          -0.1525, -0.1541, -0.1541, -0.1541, -0.1541, -0.1541, -0.1541],\n",
       "         [-0.1541, -0.1541, -0.1541, -0.1541, -0.1541, -0.1541, -0.1541,\n",
       "          -0.1541, -0.1529,  0.0846,  1.4298,  2.3110,  2.3870,  2.1609,\n",
       "           1.2293,  1.0298,  1.0810,  1.8767,  2.3523,  2.0394,  0.7654,\n",
       "          -0.1111, -0.1541, -0.1541, -0.1541, -0.1541, -0.1541, -0.1541],\n",
       "         [-0.1541, -0.1541, -0.1541, -0.1541, -0.1541, -0.1541, -0.1541,\n",
       "          -0.1541, -0.1516,  0.2773,  2.0915,  2.3876,  2.1637,  0.9726,\n",
       "           0.0084, -0.1226, -0.0897,  0.5388,  1.8814,  2.2841,  1.2829,\n",
       "          -0.0820, -0.1541, -0.1541, -0.1541, -0.1541, -0.1541, -0.1541],\n",
       "         [-0.1541, -0.1541, -0.1541, -0.1541, -0.1541, -0.1541, -0.1541,\n",
       "          -0.1540, -0.1134,  0.5379,  2.1537,  2.3354,  1.1312,  0.0124,\n",
       "          -0.1445, -0.1476, -0.1471, -0.0949,  0.5160,  1.3728,  0.2843,\n",
       "          -0.1371, -0.1541, -0.1541, -0.1541, -0.1541, -0.1541, -0.1541],\n",
       "         [-0.1541, -0.1541, -0.1541, -0.1541, -0.1541, -0.1541, -0.1541,\n",
       "          -0.1536,  0.0597,  1.6960,  2.3584,  2.3207,  0.8910,  0.3617,\n",
       "           0.5095,  0.5111,  0.5110,  0.4570,  0.0510,  0.0442, -0.1313,\n",
       "          -0.1539, -0.1541, -0.1541, -0.1541, -0.1541, -0.1541, -0.1541],\n",
       "         [-0.1541, -0.1541, -0.1541, -0.1541, -0.1541, -0.1541, -0.1541,\n",
       "          -0.1535,  0.0892,  1.8931,  2.3932,  2.3499,  1.5315,  1.8797,\n",
       "           2.2291,  2.2327,  2.2324,  2.1139,  0.9910,  0.0028, -0.1505,\n",
       "          -0.1541, -0.1541, -0.1541, -0.1541, -0.1541, -0.1541, -0.1541],\n",
       "         [-0.1541, -0.1541, -0.1541, -0.1541, -0.1541, -0.1541, -0.1541,\n",
       "          -0.1535,  0.0893,  1.8938,  2.3934,  2.3942,  2.3474,  2.2987,\n",
       "           2.2907,  2.2919,  2.3393,  2.3868,  2.1595,  1.0197, -0.0054,\n",
       "          -0.1507, -0.1541, -0.1541, -0.1541, -0.1541, -0.1541, -0.1541],\n",
       "         [-0.1541, -0.1541, -0.1541, -0.1541, -0.1541, -0.1541, -0.1541,\n",
       "          -0.1535,  0.0893,  1.8938,  2.3934,  2.3878,  2.1295,  1.0664,\n",
       "           0.6995,  0.7131,  1.3628,  2.2717,  2.3876,  2.1480,  0.9533,\n",
       "          -0.0993, -0.1541, -0.1541, -0.1541, -0.1541, -0.1541, -0.1541],\n",
       "         [-0.1541, -0.1541, -0.1541, -0.1541, -0.1541, -0.1541, -0.1541,\n",
       "          -0.1535,  0.0893,  1.8938,  2.3934,  2.3331,  1.0752, -0.0163,\n",
       "          -0.1409, -0.1368,  0.1212,  1.3908,  2.2805,  2.3786,  1.5997,\n",
       "           0.1500, -0.1475, -0.1541, -0.1541, -0.1541, -0.1541, -0.1541],\n",
       "         [-0.1541, -0.1541, -0.1541, -0.1541, -0.1541, -0.1541, -0.1541,\n",
       "          -0.1535,  0.0893,  1.8938,  2.3934,  2.3201,  0.8373, -0.1350,\n",
       "          -0.1541, -0.1541, -0.1426,  0.2040,  1.8982,  2.3912,  2.2630,\n",
       "           0.9559, -0.1238, -0.1541, -0.1541, -0.1541, -0.1541, -0.1541],\n",
       "         [-0.1541, -0.1541, -0.1541, -0.1541, -0.1541, -0.1541, -0.1541,\n",
       "          -0.1535,  0.0830,  1.8517,  2.3859,  2.3200,  0.8361, -0.1356,\n",
       "          -0.1541, -0.1541, -0.1536,  0.0620,  1.8471,  2.3925,  2.3513,\n",
       "           1.0642, -0.1207, -0.1541, -0.1541, -0.1541, -0.1541, -0.1541],\n",
       "         [-0.1541, -0.1541, -0.1541, -0.1541, -0.1541, -0.1541, -0.1541,\n",
       "          -0.1539, -0.0522,  0.9471,  2.2256,  2.3238,  0.9149, -0.0986,\n",
       "          -0.1536, -0.1538, -0.1470,  0.1456,  1.8772,  2.3918,  2.2992,\n",
       "           1.0003, -0.1225, -0.1541, -0.1541, -0.1541, -0.1541, -0.1541],\n",
       "         [-0.1541, -0.1541, -0.1541, -0.1541, -0.1541, -0.1541, -0.1541,\n",
       "          -0.1541, -0.1500,  0.2486,  1.9563,  2.3626,  1.8573,  0.5014,\n",
       "          -0.1020, -0.0606,  0.1775,  1.2214,  2.2344,  2.3820,  1.6831,\n",
       "           0.2464, -0.1447, -0.1541, -0.1541, -0.1541, -0.1541, -0.1541],\n",
       "         [-0.1541, -0.1541, -0.1541, -0.1541, -0.1541, -0.1541, -0.1541,\n",
       "          -0.1541, -0.1537, -0.0680,  0.9382,  2.3015,  2.3626,  1.8666,\n",
       "           0.6012,  0.8651,  1.8989,  2.2432,  2.3893,  2.2479,  1.1548,\n",
       "          -0.0859, -0.1540, -0.1541, -0.1541, -0.1541, -0.1541, -0.1541],\n",
       "         [-0.1541, -0.1541, -0.1541, -0.1541, -0.1541, -0.1541, -0.1541,\n",
       "          -0.1541, -0.1541, -0.1460,  0.3993,  1.8195,  2.3425,  2.3538,\n",
       "           2.1862,  2.2270,  2.3818,  2.3684,  2.2159,  1.2290,  0.0929,\n",
       "          -0.1461, -0.1541, -0.1541, -0.1541, -0.1541, -0.1541, -0.1541],\n",
       "         [-0.1541, -0.1541, -0.1541, -0.1541, -0.1541, -0.1541, -0.1541,\n",
       "          -0.1541, -0.1541, -0.1537, -0.1095,  0.4857,  1.1672,  1.9929,\n",
       "           2.3002,  2.3033,  2.2543,  1.5085,  0.9355,  0.0612, -0.1473,\n",
       "          -0.1541, -0.1541, -0.1541, -0.1541, -0.1541, -0.1541, -0.1541],\n",
       "         [-0.1541, -0.1541, -0.1541, -0.1541, -0.1541, -0.1541, -0.1541,\n",
       "          -0.1541, -0.1541, -0.1541, -0.1536, -0.1360, -0.0605,  0.5293,\n",
       "           0.7547,  0.7568,  0.7207,  0.1750, -0.1176, -0.1493, -0.1541,\n",
       "          -0.1541, -0.1541, -0.1541, -0.1541, -0.1541, -0.1541, -0.1541],\n",
       "         [-0.1541, -0.1541, -0.1541, -0.1541, -0.1541, -0.1541, -0.1541,\n",
       "          -0.1541, -0.1541, -0.1541, -0.1541, -0.1541, -0.1532, -0.1434,\n",
       "          -0.1397, -0.1396, -0.1402, -0.1493, -0.1540, -0.1541, -0.1541,\n",
       "          -0.1541, -0.1541, -0.1541, -0.1541, -0.1541, -0.1541, -0.1541]]],\n",
       "       dtype=torch.float64)"
      ]
     },
     "execution_count": 7,
     "metadata": {},
     "output_type": "execute_result"
    }
   ],
   "source": [
    "image = resize(image_gray, (28, 28), anti_aliasing=True)\n",
    "transformer_eval(image)"
   ]
  },
  {
   "cell_type": "code",
   "execution_count": 8,
   "metadata": {
    "colab": {
     "base_uri": "https://localhost:8080/",
     "height": 54
    },
    "colab_type": "code",
    "id": "_rgEX_EUk9vw",
    "outputId": "df7ae729-f84d-4145-d2a1-6197cacf83fb"
   },
   "outputs": [
    {
     "name": "stderr",
     "output_type": "stream",
     "text": [
      "/media/richard/Save/SudokuSolver/env/lib/python3.7/site-packages/ipykernel_launcher.py:17: UserWarning: Implicit dimension choice for log_softmax has been deprecated. Change the call to include dim=X as an argument.\n"
     ]
    },
    {
     "data": {
      "text/plain": [
       "0"
      ]
     },
     "execution_count": 8,
     "metadata": {},
     "output_type": "execute_result"
    }
   ],
   "source": [
    "prediction = predict(image_gray, True)\n",
    "prediction\n",
    "\n",
    "# import time\n",
    "\n",
    "# start_time = time.time()\n",
    "# counter = 0\n",
    "# for i in range(100):\n",
    "#     prediction = predict(image_gray, True)\n",
    "#     if prediction == 6:\n",
    "#         counter = counter + 1\n",
    "\n",
    "# total_time = time.time() - start_time\n",
    "# print(total_time)\n",
    "\n",
    "# counter"
   ]
  },
  {
   "cell_type": "code",
   "execution_count": 9,
   "metadata": {
    "colab": {
     "base_uri": "https://localhost:8080/"
    },
    "colab_type": "code",
    "id": "gy5pcGBvti0b",
    "outputId": "e207b37f-902f-4c91-d5fa-cb0f6e431c81"
   },
   "outputs": [
    {
     "data": {
      "text/plain": [
       "42.55736947059631"
      ]
     },
     "execution_count": 9,
     "metadata": {},
     "output_type": "execute_result"
    }
   ],
   "source": [
    "42.55736947059631"
   ]
  },
  {
   "cell_type": "code",
   "execution_count": null,
   "metadata": {},
   "outputs": [],
   "source": []
  }
 ],
 "metadata": {
  "colab": {
   "name": "Evaluate Image Pytorch.ipynb",
   "provenance": []
  },
  "kernelspec": {
   "display_name": "Python 3",
   "language": "python",
   "name": "python3"
  },
  "language_info": {
   "codemirror_mode": {
    "name": "ipython",
    "version": 3
   },
   "file_extension": ".py",
   "mimetype": "text/x-python",
   "name": "python",
   "nbconvert_exporter": "python",
   "pygments_lexer": "ipython3",
   "version": "3.7.5"
  }
 },
 "nbformat": 4,
 "nbformat_minor": 1
}
